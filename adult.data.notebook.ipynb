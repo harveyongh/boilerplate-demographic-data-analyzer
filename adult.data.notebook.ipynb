{
 "cells": [
  {
   "cell_type": "code",
   "execution_count": 2,
   "id": "a97480d0-845c-4452-b3e6-84b753f39e2a",
   "metadata": {},
   "outputs": [],
   "source": [
    "import pandas as pd\n",
    "df = pd.read_csv('adult.data.csv')"
   ]
  },
  {
   "cell_type": "code",
   "execution_count": 4,
   "id": "7da8a062-db4e-4e14-b222-1b21594b070a",
   "metadata": {},
   "outputs": [
    {
     "name": "stdout",
     "output_type": "stream",
     "text": [
      "race\n",
      "White                 27816\n",
      "Black                  3124\n",
      "Asian-Pac-Islander     1039\n",
      "Amer-Indian-Eskimo      311\n",
      "Other                   271\n",
      "Name: count, dtype: int64\n"
     ]
    }
   ],
   "source": [
    "race_count = df['race'].value_counts()\n",
    "print(race_count)"
   ]
  },
  {
   "cell_type": "code",
   "execution_count": 40,
   "id": "b730ef2c-deb5-41ba-a6b8-03e2307f4bb1",
   "metadata": {},
   "outputs": [
    {
     "name": "stdout",
     "output_type": "stream",
     "text": [
      "488415\n"
     ]
    }
   ],
   "source": [
    "print(df.size)"
   ]
  },
  {
   "cell_type": "code",
   "execution_count": 6,
   "id": "518b01f8-4b1b-43ee-96bc-812705ca959c",
   "metadata": {},
   "outputs": [
    {
     "name": "stdout",
     "output_type": "stream",
     "text": [
      "39.4\n"
     ]
    }
   ],
   "source": [
    "average_age_men = df.loc[df['sex'] == 'Male']['age'].mean().round(decimals=1)\n",
    "print(average_age_men)"
   ]
  },
  {
   "cell_type": "code",
   "execution_count": 36,
   "id": "1b0f5743-08a5-4bf4-9371-29e06e6c1ab9",
   "metadata": {},
   "outputs": [
    {
     "name": "stdout",
     "output_type": "stream",
     "text": [
      "16.4\n"
     ]
    }
   ],
   "source": [
    "percentage_bachelors = (df[df['education'] == 'Bachelors'].size/df.size)*100\n",
    "percentage_bachelors = round(percentage_bachelors, 1)\n",
    "print(percentage_bachelors)"
   ]
  },
  {
   "cell_type": "code",
   "execution_count": 58,
   "id": "5678c7da-971f-4d8e-92b4-75cf1e7a01d5",
   "metadata": {},
   "outputs": [],
   "source": [
    "higher_ed_ct = df[df['education'].isin(['Bachelors', 'Masters', 'Doctorate'])].size\n",
    "lower_ed_ct = df.size - higher_ed_ct\n",
    "higher_education = df.loc[df['education'].isin(['Bachelors', 'Masters', 'Doctorate'])]\n",
    "lower_education = df.loc[~df['education'].isin(['Bachelors', 'Masters', 'Doctorate'])]"
   ]
  },
  {
   "cell_type": "code",
   "execution_count": 62,
   "id": "d55647dd-96e4-4e99-8d5a-9b855b5b320f",
   "metadata": {},
   "outputs": [
    {
     "name": "stdout",
     "output_type": "stream",
     "text": [
      "46.5\n",
      "17.4\n"
     ]
    }
   ],
   "source": [
    "higher_education_rich = higher_education[higher_education['salary'] == '>50K']\n",
    "higher_education_rich = round((higher_education_rich.size/higher_education.size*100), 1)\n",
    "\n",
    "lower_education_rich = lower_education[lower_education['salary'] == '>50K']\n",
    "lower_education_rich = round((lower_education_rich.size/lower_education.size*100), 1)\n",
    "\n",
    "print(higher_education_rich)\n",
    "print(lower_education_rich)"
   ]
  },
  {
   "cell_type": "code",
   "execution_count": 63,
   "id": "84357a22-c583-41f2-af41-0ac2cbcf552d",
   "metadata": {},
   "outputs": [
    {
     "name": "stdout",
     "output_type": "stream",
     "text": [
      "1\n"
     ]
    }
   ],
   "source": [
    "print(df['hours-per-week'].min())"
   ]
  },
  {
   "cell_type": "code",
   "execution_count": 67,
   "id": "654472a3-c65a-4f05-a6ee-895917223ef5",
   "metadata": {},
   "outputs": [
    {
     "name": "stdout",
     "output_type": "stream",
     "text": [
      "10.0\n"
     ]
    }
   ],
   "source": [
    "num_min_workers = df.loc[df['hours-per-week'] == 1]\n",
    "rich_percentage = num_min_workers[num_min_workers['salary'] == '>50K']\n",
    "rich_percentage = round((rich_percentage.size/num_min_workers.size*100), 1)\n",
    "print(rich_percentage)"
   ]
  },
  {
   "cell_type": "code",
   "execution_count": 117,
   "id": "cbd9359b-f4fb-4015-9579-7c3d04a6a0ce",
   "metadata": {},
   "outputs": [
    {
     "name": "stdout",
     "output_type": "stream",
     "text": [
      "Iran\n",
      "41.9\n"
     ]
    }
   ],
   "source": [
    "highest_earning_count = df[df['salary'] == '>50K']\n",
    "highest_earning_count = highest_earning_count['native-country'].value_counts()\n",
    "\n",
    "country_counts = df['native-country'].value_counts()\n",
    "\n",
    "country_join = pd.concat([highest_earning_count, country_counts], axis=1)\n",
    "country_join.columns = ['rich-count', 'total-count']\n",
    "country_join['percentage'] = country_join['rich-count']/country_join['total-count']\n",
    "\n",
    "highest = country_join[country_join['percentage'] == country_join['percentage'].max()]\n",
    "highest_earning_country = highest.index[0]\n",
    "highest_earning_country_percentage = round((highest['percentage'].iloc[0]*100), 1)\n",
    "\n",
    "print(highest_earning_country)\n",
    "print(highest_earning_country_percentage)"
   ]
  },
  {
   "cell_type": "code",
   "execution_count": 128,
   "id": "d7783491-8d98-4650-b715-53d90da0b2c0",
   "metadata": {},
   "outputs": [
    {
     "name": "stdout",
     "output_type": "stream",
     "text": [
      "Prof-specialty\n"
     ]
    }
   ],
   "source": [
    "top_IN_earners = df.loc[(df['native-country'] == 'India') & (df['salary'] == '>50K')]\n",
    "top_IN_occupation = top_IN_earners['occupation'].value_counts().index[0]\n",
    "print(top_IN_occupation)"
   ]
  }
 ],
 "metadata": {
  "kernelspec": {
   "display_name": "Python 3 (ipykernel)",
   "language": "python",
   "name": "python3"
  },
  "language_info": {
   "codemirror_mode": {
    "name": "ipython",
    "version": 3
   },
   "file_extension": ".py",
   "mimetype": "text/x-python",
   "name": "python",
   "nbconvert_exporter": "python",
   "pygments_lexer": "ipython3",
   "version": "3.12.3"
  }
 },
 "nbformat": 4,
 "nbformat_minor": 5
}
